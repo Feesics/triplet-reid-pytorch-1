{
 "cells": [
  {
   "cell_type": "code",
   "execution_count": 29,
   "metadata": {},
   "outputs": [
    {
     "name": "stdout",
     "output_type": "stream",
     "text": [
      "The autoreload extension is already loaded. To reload it, use:\n",
      "  %reload_ext autoreload\n"
     ]
    }
   ],
   "source": [
    "from datasets.market import MarketDataset\n",
    "%load_ext autoreload\n",
    "%autoreload 2\n",
    "import os\n",
    "import torchvision.transforms as transforms"
   ]
  },
  {
   "cell_type": "code",
   "execution_count": 6,
   "metadata": {
    "collapsed": true
   },
   "outputs": [],
   "source": [
    "root_dir = \".\"\n",
    "data_dir = \"datasets\""
   ]
  },
  {
   "cell_type": "code",
   "execution_count": 14,
   "metadata": {
    "collapsed": true
   },
   "outputs": [],
   "source": [
    "H = 256\n",
    "W = 128\n",
    "normalize = transforms.Normalize(mean=[0.485, 0.456, 0.406],\n",
    "                                std=[0.229, 0.224, 0.225])\n",
    " "
   ]
  },
  {
   "cell_type": "code",
   "execution_count": 15,
   "metadata": {
    "collapsed": true
   },
   "outputs": [],
   "source": [
    "market_dir = os.path.join(root_dir, data_dir, \"Market\")"
   ]
  },
  {
   "cell_type": "code",
   "execution_count": 18,
   "metadata": {
    "collapsed": true
   },
   "outputs": [],
   "source": [
    "train_transform = transforms.Compose([\n",
    "        transforms.Scale(256),\n",
    "        transforms.RandomCrop((H, W)),\n",
    "        transforms.ToTensor(),\n",
    "        normalize\n",
    "    ])"
   ]
  },
  {
   "cell_type": "code",
   "execution_count": 19,
   "metadata": {},
   "outputs": [
    {
     "name": "stdout",
     "output_type": "stream",
     "text": [
      "751\n"
     ]
    }
   ],
   "source": [
    "train_dataset = MarketDataset(market_dir, transform=train_transform, test=False)"
   ]
  },
  {
   "cell_type": "code",
   "execution_count": 20,
   "metadata": {},
   "outputs": [
    {
     "name": "stdout",
     "output_type": "stream",
     "text": [
      "<datasets.market.MarketDataset object at 0x7fc700354908>\n"
     ]
    }
   ],
   "source": [
    "print(train_dataset)"
   ]
  },
  {
   "cell_type": "code",
   "execution_count": null,
   "metadata": {},
   "outputs": [
    {
     "name": "stdout",
     "output_type": "stream",
     "text": [
      "<generator object MarketDataset.__getitem__ at 0x7fc75e6f9150>\n",
      "<generator object MarketDataset.__getitem__ at 0x7fc771b36fc0>\n",
      "<generator object MarketDataset.__getitem__ at 0x7fc771acc2b0>\n",
      "<generator object MarketDataset.__getitem__ at 0x7fc771b36fc0>\n",
      "<generator object MarketDataset.__getitem__ at 0x7fc771acc2b0>\n",
      "<generator object MarketDataset.__getitem__ at 0x7fc771b36fc0>\n",
      "<generator object MarketDataset.__getitem__ at 0x7fc771acc2b0>\n",
      "<generator object MarketDataset.__getitem__ at 0x7fc771b36fc0>\n",
      "<generator object MarketDataset.__getitem__ at 0x7fc771acc2b0>\n",
      "<generator object MarketDataset.__getitem__ at 0x7fc771b36fc0>\n",
      "<generator object MarketDataset.__getitem__ at 0x7fc771acc2b0>\n",
      "<generator object MarketDataset.__getitem__ at 0x7fc771b36fc0>\n",
      "<generator object MarketDataset.__getitem__ at 0x7fc771acc2b0>\n",
      "<generator object MarketDataset.__getitem__ at 0x7fc771b36fc0>\n",
      "<generator object MarketDataset.__getitem__ at 0x7fc771acc2b0>\n",
      "<generator object MarketDataset.__getitem__ at 0x7fc771b36fc0>\n",
      "<generator object MarketDataset.__getitem__ at 0x7fc771acc2b0>\n",
      "<generator object MarketDataset.__getitem__ at 0x7fc771b36fc0>\n",
      "<generator object MarketDataset.__getitem__ at 0x7fc771acc2b0>\n",
      "<generator object MarketDataset.__getitem__ at 0x7fc771b36fc0>\n",
      "<generator object MarketDataset.__getitem__ at 0x7fc771acc2b0>\n",
      "<generator object MarketDataset.__getitem__ at 0x7fc771b36fc0>\n",
      "<generator object MarketDataset.__getitem__ at 0x7fc771acc2b0>\n",
      "<generator object MarketDataset.__getitem__ at 0x7fc771b36fc0>\n",
      "<generator object MarketDataset.__getitem__ at 0x7fc771acc2b0>\n",
      "<generator object MarketDataset.__getitem__ at 0x7fc771b36fc0>\n",
      "<generator object MarketDataset.__getitem__ at 0x7fc771acc2b0>\n",
      "<generator object MarketDataset.__getitem__ at 0x7fc771b36fc0>\n",
      "<generator object MarketDataset.__getitem__ at 0x7fc771acc2b0>\n",
      "<generator object MarketDataset.__getitem__ at 0x7fc771b36fc0>\n",
      "<generator object MarketDataset.__getitem__ at 0x7fc75efe8258>\n",
      "<generator object MarketDataset.__getitem__ at 0x7fc75efe8258>\n",
      "<generator object MarketDataset.__getitem__ at 0x7fc75e6f91a8>\n",
      "<generator object MarketDataset.__getitem__ at 0x7fc75efe8258>\n",
      "<generator object MarketDataset.__getitem__ at 0x7fc75e6f91a8>\n",
      "<generator object MarketDataset.__getitem__ at 0x7fc75efe8258>\n",
      "<generator object MarketDataset.__getitem__ at 0x7fc75e6f91a8>\n",
      "<generator object MarketDataset.__getitem__ at 0x7fc75efe8258>\n",
      "<generator object MarketDataset.__getitem__ at 0x7fc75e6f91a8>\n",
      "<generator object MarketDataset.__getitem__ at 0x7fc75efe8258>\n",
      "<generator object MarketDataset.__getitem__ at 0x7fc75e6f91a8>\n",
      "<generator object MarketDataset.__getitem__ at 0x7fc75efe8258>\n",
      "<generator object MarketDataset.__getitem__ at 0x7fc75e6f91a8>\n",
      "<generator object MarketDataset.__getitem__ at 0x7fc75efe8258>\n",
      "<generator object MarketDataset.__getitem__ at 0x7fc75e6f91a8>\n",
      "<generator object MarketDataset.__getitem__ at 0x7fc75efe8258>\n",
      "<generator object MarketDataset.__getitem__ at 0x7fc75e6f91a8>\n",
      "<generator object MarketDataset.__getitem__ at 0x7fc75efe8258>\n",
      "<generator object MarketDataset.__getitem__ at 0x7fc75e6f91a8>\n"
     ]
    }
   ],
   "source": [
    "for x in train_dataset:\n",
    "    print(x)"
   ]
  },
  {
   "cell_type": "code",
   "execution_count": 1,
   "metadata": {
    "collapsed": true
   },
   "outputs": [],
   "source": [
    "import os"
   ]
  },
  {
   "cell_type": "code",
   "execution_count": 2,
   "metadata": {
    "collapsed": true
   },
   "outputs": [],
   "source": [
    "def extract_class(file_name):\n",
    "    target = file_name.split('_')[0]\n",
    "    return int(target)"
   ]
  },
  {
   "cell_type": "code",
   "execution_count": 23,
   "metadata": {
    "collapsed": true
   },
   "outputs": [],
   "source": [
    "def make_dataset(dir, limit):\n",
    "    dir = os.path.expanduser(dir)\n",
    "    prev_target = -2\n",
    "    limit_counter = 0\n",
    "    target2idx = []\n",
    "    imgs = []\n",
    "    for idx, file_name in enumerate(sorted(os.listdir(dir))):\n",
    "        if not file_name.endswith('.jpg'):\n",
    "            continue\n",
    "        target = extract_class(file_name)\n",
    "        file_name = os.path.join(dir, file_name)\n",
    "        if limit_counter >= limit:\n",
    "            break\n",
    "        \n",
    "        if target != prev_target:\n",
    "            limit_counter += 1\n",
    "            prev_target = target\n",
    "            target2idx.append([])\n",
    "        target2idx[-1].append(idx)\n",
    "        imgs.append((file_name, target))        \n",
    "    return imgs, target2idx"
   ]
  },
  {
   "cell_type": "code",
   "execution_count": 24,
   "metadata": {},
   "outputs": [],
   "source": [
    "imgs, target2idx = make_dataset(\n",
    "    \"datasets/Market-1501-v15.09.15/bounding_box_train/\", 20)"
   ]
  },
  {
   "cell_type": "code",
   "execution_count": 25,
   "metadata": {},
   "outputs": [
    {
     "name": "stdout",
     "output_type": "stream",
     "text": [
      "329\n",
      "20\n"
     ]
    }
   ],
   "source": [
    "print(len(imgs))\n",
    "print(len(target2idx))"
   ]
  },
  {
   "cell_type": "code",
   "execution_count": 2,
   "metadata": {},
   "outputs": [],
   "source": [
    "from triplet_sampler import TripletBatchSampler\n",
    "from datasets.market import MarketDataset"
   ]
  },
  {
   "cell_type": "code",
   "execution_count": 38,
   "metadata": {},
   "outputs": [],
   "source": [
    "dataset = MarketDataset(\"datasets\", limit=36)\n",
    "sampler = TripletBatchSampler(18, 4, dataset)"
   ]
  },
  {
   "cell_type": "code",
   "execution_count": 39,
   "metadata": {},
   "outputs": [
    {
     "name": "stdout",
     "output_type": "stream",
     "text": [
      "Warning: not enough images for person id 35 (1/4)\n",
      "[49, 52, 51, 50, 348, 353, 344, 347, 220, 214, 222, 224, 523, 524, 525, 522, 187, 189, 191, 185, 535, 526, 528, 541, 130, 107, 134, 140, 58, 63, 54, 62, 245, 259, 260, 256, 493, 509, 478, 495, 90, 86, 85, 87, 296, 291, 287, 294, 464, 469, 470, 468, 377, 385, 391, 381, 269, 271, 272, 277, 440, 452, 456, 461, 474, 471, 473, 475, 156, 161, 163, 165]\n",
      "Warning: not enough images for person id 23 (3/4)\n"
     ]
    }
   ],
   "source": [
    "for sample in sampler:\n",
    "    print(sample)"
   ]
  },
  {
   "cell_type": "code",
   "execution_count": null,
   "metadata": {},
   "outputs": [],
   "source": []
  },
  {
   "cell_type": "code",
   "execution_count": null,
   "metadata": {},
   "outputs": [],
   "source": []
  }
 ],
 "metadata": {
  "kernelspec": {
   "display_name": "Python 3",
   "language": "python",
   "name": "python3"
  },
  "language_info": {
   "codemirror_mode": {
    "name": "ipython",
    "version": 3
   },
   "file_extension": ".py",
   "mimetype": "text/x-python",
   "name": "python",
   "nbconvert_exporter": "python",
   "pygments_lexer": "ipython3",
   "version": "3.6.3"
  }
 },
 "nbformat": 4,
 "nbformat_minor": 2
}
