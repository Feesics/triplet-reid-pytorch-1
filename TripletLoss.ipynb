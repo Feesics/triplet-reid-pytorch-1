{
 "cells": [
  {
   "cell_type": "code",
   "execution_count": 6,
   "metadata": {},
   "outputs": [],
   "source": [
    "import numpy as np"
   ]
  },
  {
   "cell_type": "code",
   "execution_count": 7,
   "metadata": {},
   "outputs": [],
   "source": [
    "P = 18\n",
    "K = 4\n",
    "batch_size = P * K\n",
    "embedding_size = 15"
   ]
  },
  {
   "cell_type": "code",
   "execution_count": 8,
   "metadata": {},
   "outputs": [
    {
     "name": "stdout",
     "output_type": "stream",
     "text": [
      "[0 1 2 3 4] [ 0 10 20 30 40]\n",
      "(5,) (1, 5)\n"
     ]
    }
   ],
   "source": [
    "a = np.arange(5)\n",
    "b = np.arange(5) * 10\n",
    "print(a, b)\n",
    "b = b[None, :]\n",
    "print(a.shape, b.shape)\n",
    "    "
   ]
  },
  {
   "cell_type": "code",
   "execution_count": 9,
   "metadata": {},
   "outputs": [
    {
     "name": "stdout",
     "output_type": "stream",
     "text": [
      "[[ 0]\n",
      " [10]\n",
      " [20]\n",
      " [30]\n",
      " [40]]\n"
     ]
    },
    {
     "data": {
      "text/plain": [
       "array([[ 0,  1,  2,  3,  4],\n",
       "       [10, 11, 12, 13, 14],\n",
       "       [20, 21, 22, 23, 24],\n",
       "       [30, 31, 32, 33, 34],\n",
       "       [40, 41, 42, 43, 44]])"
      ]
     },
     "execution_count": 9,
     "metadata": {},
     "output_type": "execute_result"
    }
   ],
   "source": [
    "print(b.T)\n",
    "a + b.T"
   ]
  },
  {
   "cell_type": "code",
   "execution_count": 10,
   "metadata": {},
   "outputs": [],
   "source": [
    "x = np.arange(batch_size * embedding_size)"
   ]
  },
  {
   "cell_type": "code",
   "execution_count": 11,
   "metadata": {},
   "outputs": [
    {
     "name": "stdout",
     "output_type": "stream",
     "text": [
      "[[   0    1    2 ...,   12   13   14]\n",
      " [  15   16   17 ...,   27   28   29]\n",
      " [  30   31   32 ...,   42   43   44]\n",
      " ..., \n",
      " [1035 1036 1037 ..., 1047 1048 1049]\n",
      " [1050 1051 1052 ..., 1062 1063 1064]\n",
      " [1065 1066 1067 ..., 1077 1078 1079]]\n"
     ]
    }
   ],
   "source": [
    "x.shape = (batch_size, embedding_size)\n",
    "print(x)"
   ]
  },
  {
   "cell_type": "markdown",
   "metadata": {},
   "source": [
    "broadcasting:\n",
    "operation is executed along dimension 1"
   ]
  },
  {
   "cell_type": "code",
   "execution_count": 12,
   "metadata": {},
   "outputs": [
    {
     "name": "stdout",
     "output_type": "stream",
     "text": [
      "(1, 72, 15)\n",
      "(72, 1, 15)\n"
     ]
    }
   ],
   "source": [
    "# [x, y ,z]\n",
    "# shape = 1 x 8 x 15\n",
    "x_a = x[None, : ,:]\n",
    "# shape = 8 x 1 x 15\n",
    "x_b = x[:, None, :]\n",
    "print(x_a.shape)\n",
    "print(x_b.shape)"
   ]
  },
  {
   "cell_type": "markdown",
   "metadata": {},
   "source": [
    "Calculate cdist the distance between the vectors, should return batch_size x batch_size"
   ]
  },
  {
   "cell_type": "code",
   "execution_count": 255,
   "metadata": {},
   "outputs": [
    {
     "name": "stdout",
     "output_type": "stream",
     "text": [
      "(72, 72, 15)\n",
      "[[[    0     0     0 ...,     0     0     0]\n",
      "  [  -15   -15   -15 ...,   -15   -15   -15]\n",
      "  [  -30   -30   -30 ...,   -30   -30   -30]\n",
      "  ..., \n",
      "  [-1035 -1035 -1035 ..., -1035 -1035 -1035]\n",
      "  [-1050 -1050 -1050 ..., -1050 -1050 -1050]\n",
      "  [-1065 -1065 -1065 ..., -1065 -1065 -1065]]\n",
      "\n",
      " [[   15    15    15 ...,    15    15    15]\n",
      "  [    0     0     0 ...,     0     0     0]\n",
      "  [  -15   -15   -15 ...,   -15   -15   -15]\n",
      "  ..., \n",
      "  [-1020 -1020 -1020 ..., -1020 -1020 -1020]\n",
      "  [-1035 -1035 -1035 ..., -1035 -1035 -1035]\n",
      "  [-1050 -1050 -1050 ..., -1050 -1050 -1050]]\n",
      "\n",
      " [[   30    30    30 ...,    30    30    30]\n",
      "  [   15    15    15 ...,    15    15    15]\n",
      "  [    0     0     0 ...,     0     0     0]\n",
      "  ..., \n",
      "  [-1005 -1005 -1005 ..., -1005 -1005 -1005]\n",
      "  [-1020 -1020 -1020 ..., -1020 -1020 -1020]\n",
      "  [-1035 -1035 -1035 ..., -1035 -1035 -1035]]\n",
      "\n",
      " ..., \n",
      " [[ 1035  1035  1035 ...,  1035  1035  1035]\n",
      "  [ 1020  1020  1020 ...,  1020  1020  1020]\n",
      "  [ 1005  1005  1005 ...,  1005  1005  1005]\n",
      "  ..., \n",
      "  [    0     0     0 ...,     0     0     0]\n",
      "  [  -15   -15   -15 ...,   -15   -15   -15]\n",
      "  [  -30   -30   -30 ...,   -30   -30   -30]]\n",
      "\n",
      " [[ 1050  1050  1050 ...,  1050  1050  1050]\n",
      "  [ 1035  1035  1035 ...,  1035  1035  1035]\n",
      "  [ 1020  1020  1020 ...,  1020  1020  1020]\n",
      "  ..., \n",
      "  [   15    15    15 ...,    15    15    15]\n",
      "  [    0     0     0 ...,     0     0     0]\n",
      "  [  -15   -15   -15 ...,   -15   -15   -15]]\n",
      "\n",
      " [[ 1065  1065  1065 ...,  1065  1065  1065]\n",
      "  [ 1050  1050  1050 ...,  1050  1050  1050]\n",
      "  [ 1035  1035  1035 ...,  1035  1035  1035]\n",
      "  ..., \n",
      "  [   30    30    30 ...,    30    30    30]\n",
      "  [   15    15    15 ...,    15    15    15]\n",
      "  [    0     0     0 ...,     0     0     0]]]\n"
     ]
    }
   ],
   "source": [
    "cdist = x_b - x_a\n",
    "print(cdist.shape)\n",
    "print(cdist)\n"
   ]
  },
  {
   "cell_type": "code",
   "execution_count": 256,
   "metadata": {},
   "outputs": [
    {
     "name": "stdout",
     "output_type": "stream",
     "text": [
      "(72, 72)\n",
      "[[    0.            58.09475019   116.18950039 ...,  4008.53776332\n",
      "   4066.63251352  4124.72726371]\n",
      " [   58.09475019     0.            58.09475019 ...,  3950.44301313\n",
      "   4008.53776332  4066.63251352]\n",
      " [  116.18950039    58.09475019     0.         ...,  3892.34826294\n",
      "   3950.44301313  4008.53776332]\n",
      " ..., \n",
      " [ 4008.53776332  3950.44301313  3892.34826294 ...,     0.            58.09475019\n",
      "    116.18950039]\n",
      " [ 4066.63251352  4008.53776332  3950.44301313 ...,    58.09475019     0.\n",
      "     58.09475019]\n",
      " [ 4124.72726371  4066.63251352  4008.53776332 ...,   116.18950039\n",
      "     58.09475019     0.        ]]\n"
     ]
    }
   ],
   "source": [
    "cdist = np.square(cdist)\n",
    "cdist = np.sum(cdist, axis=2)\n",
    "cdist = np.sqrt(cdist)\n",
    "print(cdist.shape)\n",
    "print(cdist)"
   ]
  },
  {
   "cell_type": "markdown",
   "metadata": {},
   "source": [
    "create mask that selects K images of the same person in each row"
   ]
  },
  {
   "cell_type": "code",
   "execution_count": 257,
   "metadata": {},
   "outputs": [],
   "source": [
    "import time"
   ]
  },
  {
   "cell_type": "code",
   "execution_count": 55,
   "metadata": {},
   "outputs": [
    {
     "data": {
      "text/plain": [
       "array([[ True,  True, False,  True, False, False, False, False],\n",
       "       [ True,  True, False,  True, False, False, False, False],\n",
       "       [False, False,  True, False,  True,  True,  True,  True],\n",
       "       [ True,  True, False,  True, False, False, False, False],\n",
       "       [False, False,  True, False,  True,  True,  True,  True],\n",
       "       [False, False,  True, False,  True,  True,  True,  True],\n",
       "       [False, False,  True, False,  True,  True,  True,  True],\n",
       "       [False, False,  True, False,  True,  True,  True,  True]], dtype=bool)"
      ]
     },
     "execution_count": 55,
     "metadata": {},
     "output_type": "execute_result"
    }
   ],
   "source": [
    "pids = np.array([1, 1, 15, 1, 15, 15, 15, 15])\n",
    "pids[None,:] == pids[:,None]"
   ]
  },
  {
   "cell_type": "code",
   "execution_count": 45,
   "metadata": {},
   "outputs": [],
   "source": [
    "def create_mask():\n",
    "    mask = np.eye(P, dtype=int)\n",
    "    return mask.repeat(K, axis=0).repeat(K, axis=1)\n"
   ]
  },
  {
   "cell_type": "code",
   "execution_count": 273,
   "metadata": {},
   "outputs": [
    {
     "name": "stdout",
     "output_type": "stream",
     "text": [
      "29.4 µs ± 1.63 µs per loop (mean ± std. dev. of 7 runs, 10000 loops each)\n",
      "[[1 1 1 ..., 0 0 0]\n",
      " [1 1 1 ..., 0 0 0]\n",
      " [1 1 1 ..., 0 0 0]\n",
      " ..., \n",
      " [0 0 0 ..., 1 1 1]\n",
      " [0 0 0 ..., 1 1 1]\n",
      " [0 0 0 ..., 1 1 1]]\n"
     ]
    }
   ],
   "source": [
    "%timeit create_mask()\n",
    "print(create_mask())\n"
   ]
  },
  {
   "cell_type": "code",
   "execution_count": 132,
   "metadata": {},
   "outputs": [],
   "source": [
    "def create_mask2():\n",
    "    return np.kron(np.eye(P), np.ones((K, K)))"
   ]
  },
  {
   "cell_type": "code",
   "execution_count": 133,
   "metadata": {},
   "outputs": [
    {
     "name": "stdout",
     "output_type": "stream",
     "text": [
      "67.5 µs ± 1.35 µs per loop (mean ± std. dev. of 7 runs, 10000 loops each)\n",
      "[[ 1.  1.  1. ...,  0.  0.  0.]\n",
      " [ 1.  1.  1. ...,  0.  0.  0.]\n",
      " [ 1.  1.  1. ...,  0.  0.  0.]\n",
      " ..., \n",
      " [ 0.  0.  0. ...,  1.  1.  1.]\n",
      " [ 0.  0.  0. ...,  1.  1.  1.]\n",
      " [ 0.  0.  0. ...,  1.  1.  1.]]\n"
     ]
    }
   ],
   "source": [
    "%timeit create_mask2()\n",
    "print(create_mask2())"
   ]
  },
  {
   "cell_type": "code",
   "execution_count": 134,
   "metadata": {},
   "outputs": [],
   "source": [
    "def create_mask3():\n",
    "    # faster for bigger mattrices\n",
    "    from numpy.lib.stride_tricks import as_strided\n",
    "    a = np.eye(P, dtype=bool)\n",
    "    r, c = a.shape                                    # number of rows/columns\n",
    "    rs, cs = a.strides                                # row/column strides \n",
    "    x = as_strided(a, (r, K, c, K), (rs, 0, cs, 0)) # view a as larger 4D array\n",
    "    return x.reshape(r*K, c*K)"
   ]
  },
  {
   "cell_type": "code",
   "execution_count": 135,
   "metadata": {},
   "outputs": [
    {
     "name": "stdout",
     "output_type": "stream",
     "text": [
      "28.5 µs ± 889 ns per loop (mean ± std. dev. of 7 runs, 10000 loops each)\n",
      "[[ True  True  True ..., False False False]\n",
      " [ True  True  True ..., False False False]\n",
      " [ True  True  True ..., False False False]\n",
      " ..., \n",
      " [False False False ...,  True  True  True]\n",
      " [False False False ...,  True  True  True]\n",
      " [False False False ...,  True  True  True]]\n"
     ]
    }
   ],
   "source": [
    "%timeit create_mask3()\n",
    "print(create_mask3())"
   ]
  },
  {
   "cell_type": "code",
   "execution_count": 259,
   "metadata": {},
   "outputs": [
    {
     "name": "stdout",
     "output_type": "stream",
     "text": [
      "[[ True  True  True ..., False False False]\n",
      " [ True  True  True ..., False False False]\n",
      " [ True  True  True ..., False False False]\n",
      " ..., \n",
      " [False False False ...,  True  True  True]\n",
      " [False False False ...,  True  True  True]\n",
      " [False False False ...,  True  True  True]]\n"
     ]
    }
   ],
   "source": [
    "mask = create_mask()\n",
    "print(mask)"
   ]
  },
  {
   "cell_type": "code",
   "execution_count": 260,
   "metadata": {},
   "outputs": [
    {
     "name": "stdout",
     "output_type": "stream",
     "text": [
      "(72, 72)\n",
      "(72, 72)\n",
      "[[    0.            58.09475019   116.18950039 ...,  4008.53776332\n",
      "   4066.63251352  4124.72726371]\n",
      " [   58.09475019     0.            58.09475019 ...,  3950.44301313\n",
      "   4008.53776332  4066.63251352]\n",
      " [  116.18950039    58.09475019     0.         ...,  3892.34826294\n",
      "   3950.44301313  4008.53776332]\n",
      " ..., \n",
      " [ 4008.53776332  3950.44301313  3892.34826294 ...,     0.            58.09475019\n",
      "    116.18950039]\n",
      " [ 4066.63251352  4008.53776332  3950.44301313 ...,    58.09475019     0.\n",
      "     58.09475019]\n",
      " [ 4124.72726371  4066.63251352  4008.53776332 ...,   116.18950039\n",
      "     58.09475019     0.        ]]\n"
     ]
    }
   ],
   "source": [
    "print(cdist.shape)\n",
    "print(mask.shape)\n",
    "print(cdist)"
   ]
  },
  {
   "cell_type": "code",
   "execution_count": 261,
   "metadata": {},
   "outputs": [
    {
     "data": {
      "text/plain": [
       "array([ 4124.72726371,  4066.63251352,  4008.53776332,  3950.44301313,\n",
       "        3892.34826294,  3834.25351275,  3776.15876255,  3718.06401236,\n",
       "        3659.96926217,  3601.87451197,  3543.77976178,  3485.68501159,\n",
       "        3427.59026139,  3369.4955112 ,  3311.40076101,  3253.30601081,\n",
       "        3195.21126062,  3137.11651043,  3079.02176023,  3020.92701004,\n",
       "        2962.83225985,  2904.73750966,  2846.64275946,  2788.54800927,\n",
       "        2730.45325908,  2672.35850888,  2614.26375869,  2556.1690085 ,\n",
       "        2498.0742583 ,  2439.97950811,  2381.88475792,  2323.79000772,\n",
       "        2265.69525753,  2207.60050734,  2149.50575715,  2091.41100695,\n",
       "        2091.41100695,  2149.50575715,  2207.60050734,  2265.69525753,\n",
       "        2323.79000772,  2381.88475792,  2439.97950811,  2498.0742583 ,\n",
       "        2556.1690085 ,  2614.26375869,  2672.35850888,  2730.45325908,\n",
       "        2788.54800927,  2846.64275946,  2904.73750966,  2962.83225985,\n",
       "        3020.92701004,  3079.02176023,  3137.11651043,  3195.21126062,\n",
       "        3253.30601081,  3311.40076101,  3369.4955112 ,  3427.59026139,\n",
       "        3485.68501159,  3543.77976178,  3601.87451197,  3659.96926217,\n",
       "        3718.06401236,  3776.15876255,  3834.25351275,  3892.34826294,\n",
       "        3950.44301313,  4008.53776332,  4066.63251352,  4124.72726371])"
      ]
     },
     "execution_count": 261,
     "metadata": {},
     "output_type": "execute_result"
    }
   ],
   "source": [
    "np.amax(cdist, axis=1)"
   ]
  },
  {
   "cell_type": "code",
   "execution_count": 262,
   "metadata": {},
   "outputs": [
    {
     "data": {
      "text/plain": [
       "array([ 0.,  0.,  0.,  0.,  0.,  0.,  0.,  0.,  0.,  0.,  0.,  0.,  0.,\n",
       "        0.,  0.,  0.,  0.,  0.,  0.,  0.,  0.,  0.,  0.,  0.,  0.,  0.,\n",
       "        0.,  0.,  0.,  0.,  0.,  0.,  0.,  0.,  0.,  0.,  0.,  0.,  0.,\n",
       "        0.,  0.,  0.,  0.,  0.,  0.,  0.,  0.,  0.,  0.,  0.,  0.,  0.,\n",
       "        0.,  0.,  0.,  0.,  0.,  0.,  0.,  0.,  0.,  0.,  0.,  0.,  0.,\n",
       "        0.,  0.,  0.,  0.,  0.,  0.,  0.])"
      ]
     },
     "execution_count": 262,
     "metadata": {},
     "output_type": "execute_result"
    }
   ],
   "source": [
    "np.amin(cdist, axis=1)"
   ]
  },
  {
   "cell_type": "code",
   "execution_count": 263,
   "metadata": {},
   "outputs": [],
   "source": [
    "m = 0.3"
   ]
  },
  {
   "cell_type": "code",
   "execution_count": 271,
   "metadata": {},
   "outputs": [],
   "source": [
    "def create_cdist(cdist):\n",
    "    # this seems to be slightly faster\n",
    "    cdist_max = cdist.copy()\n",
    "    cdist_max[np.logical_not(mask)] = 0\n",
    "    cdist_min = cdist.copy()\n",
    "    cdist_min[mask] = 0\n",
    "    return cdist_min, cdist_max\n",
    "    \n",
    "    "
   ]
  },
  {
   "cell_type": "code",
   "execution_count": 274,
   "metadata": {},
   "outputs": [],
   "source": [
    "def create_cdist2(cdist):\n",
    "    max_cdist = cdist * mask\n",
    "    min_cdist = cdist * np.logical_not(mask)\n",
    "    return min_cdist, max_cdist"
   ]
  },
  {
   "cell_type": "code",
   "execution_count": 275,
   "metadata": {},
   "outputs": [
    {
     "name": "stdout",
     "output_type": "stream",
     "text": [
      "17.9 µs ± 173 ns per loop (mean ± std. dev. of 7 runs, 100000 loops each)\n",
      "[[    0.             0.             0.         ...,  4008.53776332\n",
      "   4066.63251352  4124.72726371]\n",
      " [    0.             0.             0.         ...,  3950.44301313\n",
      "   4008.53776332  4066.63251352]\n",
      " [    0.             0.             0.         ...,  3892.34826294\n",
      "   3950.44301313  4008.53776332]\n",
      " ..., \n",
      " [ 4008.53776332  3950.44301313  3892.34826294 ...,     0.             0.\n",
      "      0.        ]\n",
      " [ 4066.63251352  4008.53776332  3950.44301313 ...,     0.             0.\n",
      "      0.        ]\n",
      " [ 4124.72726371  4066.63251352  4008.53776332 ...,     0.             0.\n",
      "      0.        ]]\n",
      "False\n",
      "False\n"
     ]
    }
   ],
   "source": [
    "#cdist_min1, cdist_max1 = create_cdist(cdist)\n",
    "%timeit cdist_min2, cdist_max2 = create_cdist2(cdist)\n",
    "print(cdist_min2)\n",
    "print(np.array_equal(cdist_min1, cdist_min2))\n",
    "print(np.array_equal(cdist_max1, cdist_max2))\n"
   ]
  },
  {
   "cell_type": "code",
   "execution_count": 276,
   "metadata": {},
   "outputs": [
    {
     "name": "stdout",
     "output_type": "stream",
     "text": [
      "[[   0.           58.09475019  116.18950039 ...,    0.            0.            0.        ]\n",
      " [  58.09475019    0.           58.09475019 ...,    0.            0.            0.        ]\n",
      " [ 116.18950039   58.09475019    0.         ...,    0.            0.            0.        ]\n",
      " ..., \n",
      " [   0.            0.            0.         ...,    0.           58.09475019\n",
      "   116.18950039]\n",
      " [   0.            0.            0.         ...,   58.09475019    0.\n",
      "    58.09475019]\n",
      " [   0.            0.            0.         ...,  116.18950039\n",
      "    58.09475019    0.        ]]\n"
     ]
    }
   ],
   "source": [
    "print(cdist_min1)"
   ]
  },
  {
   "cell_type": "code",
   "execution_count": 277,
   "metadata": {},
   "outputs": [
    {
     "name": "stdout",
     "output_type": "stream",
     "text": [
      "[ 174.58425058  116.48950039  116.48950039  174.58425058]\n"
     ]
    }
   ],
   "source": [
    "loss = np.amax(cdist_max, axis=1) - np.amin(cdist_min, axis=1) + m\n",
    "print(loss)\n",
    "loss[loss < 0] = 0.0\n",
    "loss = 1/(batch_size) * np.sum(loss)"
   ]
  },
  {
   "cell_type": "code",
   "execution_count": 278,
   "metadata": {},
   "outputs": [
    {
     "name": "stdout",
     "output_type": "stream",
     "text": [
      "8.08538197127\n"
     ]
    }
   ],
   "source": [
    "print(loss)"
   ]
  },
  {
   "cell_type": "raw",
   "metadata": {},
   "source": [
    "torch implementation"
   ]
  },
  {
   "cell_type": "code",
   "execution_count": 27,
   "metadata": {},
   "outputs": [],
   "source": [
    "import torch\n",
    "from torch.autograd import Variable"
   ]
  },
  {
   "cell_type": "code",
   "execution_count": 28,
   "metadata": {},
   "outputs": [
    {
     "name": "stdout",
     "output_type": "stream",
     "text": [
      "[[   0    1    2 ...,   12   13   14]\n",
      " [  15   16   17 ...,   27   28   29]\n",
      " [  30   31   32 ...,   42   43   44]\n",
      " ..., \n",
      " [1035 1036 1037 ..., 1047 1048 1049]\n",
      " [1050 1051 1052 ..., 1062 1063 1064]\n",
      " [1065 1066 1067 ..., 1077 1078 1079]]\n"
     ]
    }
   ],
   "source": [
    "print(x)"
   ]
  },
  {
   "cell_type": "code",
   "execution_count": 29,
   "metadata": {},
   "outputs": [
    {
     "name": "stdout",
     "output_type": "stream",
     "text": [
      "Variable containing:\n",
      "    0     1     2  ...     12    13    14\n",
      "   15    16    17  ...     27    28    29\n",
      "   30    31    32  ...     42    43    44\n",
      "       ...          ⋱          ...       \n",
      " 1035  1036  1037  ...   1047  1048  1049\n",
      " 1050  1051  1052  ...   1062  1063  1064\n",
      " 1065  1066  1067  ...   1077  1078  1079\n",
      "[torch.LongTensor of size 72x15]\n",
      "\n"
     ]
    }
   ],
   "source": [
    "x_t = Variable(torch.from_numpy(x))\n",
    "print(x_t)"
   ]
  },
  {
   "cell_type": "code",
   "execution_count": 32,
   "metadata": {},
   "outputs": [
    {
     "name": "stdout",
     "output_type": "stream",
     "text": [
      "torch.Size([1, 72, 15])\n",
      "torch.Size([72, 1, 15])\n"
     ]
    }
   ],
   "source": [
    "# shape = 1 x 8 x 15\n",
    "x_a = x_t[None, : ,:]\n",
    "# shape = 8 x 1 x 15\n",
    "x_b = x_t[:, None, :]\n",
    "print(x_a.data.shape)\n",
    "print(x_b.data.shape)"
   ]
  },
  {
   "cell_type": "code",
   "execution_count": 42,
   "metadata": {},
   "outputs": [
    {
     "name": "stdout",
     "output_type": "stream",
     "text": [
      "torch.Size([72, 72, 15])\n"
     ]
    }
   ],
   "source": [
    "cdist = x_b - x_a\n",
    "print(cdist.data.shape)\n"
   ]
  },
  {
   "cell_type": "code",
   "execution_count": 43,
   "metadata": {},
   "outputs": [
    {
     "name": "stdout",
     "output_type": "stream",
     "text": [
      "torch.Size([72, 72])\n"
     ]
    }
   ],
   "source": [
    "cdist = torch.mul(cdist, cdist)\n",
    "cdist = torch.sum(cdist, dim=2)\n",
    "print(cdist.data.shape)"
   ]
  },
  {
   "cell_type": "code",
   "execution_count": 51,
   "metadata": {},
   "outputs": [],
   "source": [
    "def create_mask():\n",
    "    mask = np.eye(P, dtype=int)\n",
    "    return mask.repeat(K, axis=0).repeat(K, axis=1)\n",
    "mask = create_mask()"
   ]
  },
  {
   "cell_type": "code",
   "execution_count": 52,
   "metadata": {},
   "outputs": [
    {
     "name": "stdout",
     "output_type": "stream",
     "text": [
      "[[1 1 1 ..., 0 0 0]\n",
      " [1 1 1 ..., 0 0 0]\n",
      " [1 1 1 ..., 0 0 0]\n",
      " ..., \n",
      " [0 0 0 ..., 1 1 1]\n",
      " [0 0 0 ..., 1 1 1]\n",
      " [0 0 0 ..., 1 1 1]]\n",
      "[[False False False ...,  True  True  True]\n",
      " [False False False ...,  True  True  True]\n",
      " [False False False ...,  True  True  True]\n",
      " ..., \n",
      " [ True  True  True ..., False False False]\n",
      " [ True  True  True ..., False False False]\n",
      " [ True  True  True ..., False False False]]\n"
     ]
    }
   ],
   "source": [
    "print(mask)\n",
    "print(np.logical_not(mask))t"
   ]
  },
  {
   "cell_type": "code",
   "execution_count": 68,
   "metadata": {},
   "outputs": [
    {
     "name": "stdout",
     "output_type": "stream",
     "text": [
      "[[1 1 1 ..., 0 0 0]\n",
      " [1 1 1 ..., 0 0 0]\n",
      " [1 1 1 ..., 0 0 0]\n",
      " ..., \n",
      " [0 0 0 ..., 1 1 1]\n",
      " [0 0 0 ..., 1 1 1]\n",
      " [0 0 0 ..., 1 1 1]]\n",
      "[[0 0 0 ..., 1 1 1]\n",
      " [0 0 0 ..., 1 1 1]\n",
      " [0 0 0 ..., 1 1 1]\n",
      " ..., \n",
      " [1 1 1 ..., 0 0 0]\n",
      " [1 1 1 ..., 0 0 0]\n",
      " [1 1 1 ..., 0 0 0]]\n",
      "[[0 0 0 ..., 1 1 1]\n",
      " [0 0 0 ..., 1 1 1]\n",
      " [0 0 0 ..., 1 1 1]\n",
      " ..., \n",
      " [1 1 1 ..., 0 0 0]\n",
      " [1 1 1 ..., 0 0 0]\n",
      " [1 1 1 ..., 0 0 0]]\n"
     ]
    },
    {
     "ename": "RuntimeError",
     "evalue": "can't convert a given np.ndarray to a tensor - it has an invalid type. The only supported types are: double, float, int64, int32, and uint8.",
     "output_type": "error",
     "traceback": [
      "\u001b[0;31m---------------------------------------------------------------------------\u001b[0m",
      "\u001b[0;31mRuntimeError\u001b[0m                              Traceback (most recent call last)",
      "\u001b[0;32m<ipython-input-68-961dbd872150>\u001b[0m in \u001b[0;36m<module>\u001b[0;34m()\u001b[0m\n\u001b[1;32m      5\u001b[0m \u001b[0mmask_min\u001b[0m \u001b[0;34m=\u001b[0m \u001b[0;34m(\u001b[0m\u001b[0;36m1\u001b[0m\u001b[0;34m-\u001b[0m\u001b[0mmask\u001b[0m\u001b[0;34m)\u001b[0m\u001b[0;34m.\u001b[0m\u001b[0mastype\u001b[0m\u001b[0;34m(\u001b[0m\u001b[0mnp\u001b[0m\u001b[0;34m.\u001b[0m\u001b[0mbyte\u001b[0m\u001b[0;34m)\u001b[0m\u001b[0;34m\u001b[0m\u001b[0m\n\u001b[1;32m      6\u001b[0m \u001b[0mprint\u001b[0m\u001b[0;34m(\u001b[0m\u001b[0mmask_min\u001b[0m\u001b[0;34m)\u001b[0m\u001b[0;34m\u001b[0m\u001b[0m\n\u001b[0;32m----> 7\u001b[0;31m \u001b[0mmask_min\u001b[0m \u001b[0;34m=\u001b[0m \u001b[0mVariable\u001b[0m\u001b[0;34m(\u001b[0m\u001b[0mtorch\u001b[0m\u001b[0;34m.\u001b[0m\u001b[0mfrom_numpy\u001b[0m\u001b[0;34m(\u001b[0m\u001b[0mmask_min\u001b[0m\u001b[0;34m)\u001b[0m\u001b[0;34m)\u001b[0m\u001b[0;34m\u001b[0m\u001b[0m\n\u001b[0m",
      "\u001b[0;31mRuntimeError\u001b[0m: can't convert a given np.ndarray to a tensor - it has an invalid type. The only supported types are: double, float, int64, int32, and uint8."
     ]
    }
   ],
   "source": [
    "mask = create_mask()\n",
    "print(mask)\n",
    "print(1-mask)\n",
    "mask_max = Variable(torch.from_numpy(mask))\n",
    "mask_min = (1-mask).astype(np.byte)\n",
    "print(mask_min)\n",
    "mask_min = Variable(torch.from_numpy(mask_min))"
   ]
  },
  {
   "cell_type": "code",
   "execution_count": 71,
   "metadata": {},
   "outputs": [
    {
     "name": "stdout",
     "output_type": "stream",
     "text": [
      "[ 0  0  0  0  1  1  1  1  2  2  2  2  3  3  3  3  4  4  4  4  5  5  5  5  6\n",
      "  6  6  6  7  7  7  7  8  8  8  8  9  9  9  9 10 10 10 10 11 11 11 11 12 12\n",
      " 12 12 13 13 13 13 14 14 14 14 15 15 15 15 16 16 16 16 17 17 17 17]\n"
     ]
    }
   ],
   "source": [
    "target = np.arange(P).repeat(K)\n",
    "print(target)\n",
    "target = Variable(torch.from_numpy(target))"
   ]
  },
  {
   "cell_type": "code",
   "execution_count": 85,
   "metadata": {},
   "outputs": [
    {
     "name": "stdout",
     "output_type": "stream",
     "text": [
      "Variable containing:\n",
      "    1     1     1  ...      0     0     0\n",
      "    1     1     1  ...      0     0     0\n",
      "    1     1     1  ...      0     0     0\n",
      "       ...          ⋱          ...       \n",
      "    0     0     0  ...      1     1     1\n",
      "    0     0     0  ...      1     1     1\n",
      "    0     0     0  ...      1     1     1\n",
      "[torch.ByteTensor of size 72x72]\n",
      "\n",
      "\n",
      "    0     0     0  ...      1     1     1\n",
      "    0     0     0  ...      1     1     1\n",
      "    0     0     0  ...      1     1     1\n",
      "       ...          ⋱          ...       \n",
      "    1     1     1  ...      0     0     0\n",
      "    1     1     1  ...      0     0     0\n",
      "    1     1     1  ...      0     0     0\n",
      "[torch.ByteTensor of size 72x72]\n",
      "\n"
     ]
    }
   ],
   "source": [
    "mask_max = target[None,:] == target[:,None]\n",
    "print(mask)\n",
    "mask_min = 1 - mask_max.data\n",
    "print(mask_min)"
   ]
  },
  {
   "cell_type": "code",
   "execution_count": 94,
   "metadata": {},
   "outputs": [],
   "source": [
    "max_cdist = torch.masked_select(cdist, mask_max).view(K, batch_size)\n",
    "min_cdist = torch.masked_select(cdist, mask_min).view(batch_size - K, batch_size)"
   ]
  },
  {
   "cell_type": "code",
   "execution_count": 97,
   "metadata": {},
   "outputs": [
    {
     "name": "stdout",
     "output_type": "stream",
     "text": [
      "torch.Size([4, 72])\n",
      "torch.Size([68, 72])\n"
     ]
    }
   ],
   "source": [
    "print(max_cdist.size())\n",
    "print(min_cdist.size())"
   ]
  },
  {
   "cell_type": "code",
   "execution_count": 107,
   "metadata": {},
   "outputs": [],
   "source": [
    "loss_max = torch.max(max_cdist, dim=0)[0] # max returns tuples with the indexes?\n",
    "loss_min = torch.min(min_cdist, dim=0)[0]"
   ]
  },
  {
   "cell_type": "code",
   "execution_count": 108,
   "metadata": {},
   "outputs": [
    {
     "name": "stdout",
     "output_type": "stream",
     "text": [
      "Variable containing:\n",
      " 13500\n",
      "  3375\n",
      " 13500\n",
      " 30375\n",
      " 30375\n",
      " 13500\n",
      "  3375\n",
      " 13500\n",
      " 13500\n",
      "  3375\n",
      " 13500\n",
      " 30375\n",
      " 30375\n",
      " 13500\n",
      "  3375\n",
      " 13500\n",
      " 13500\n",
      "  3375\n",
      " 13500\n",
      " 30375\n",
      " 30375\n",
      " 13500\n",
      "  3375\n",
      " 13500\n",
      " 13500\n",
      "  3375\n",
      " 13500\n",
      " 30375\n",
      " 30375\n",
      " 13500\n",
      "  3375\n",
      " 13500\n",
      " 13500\n",
      "  3375\n",
      " 13500\n",
      " 30375\n",
      " 30375\n",
      " 13500\n",
      "  3375\n",
      " 13500\n",
      " 13500\n",
      "  3375\n",
      " 13500\n",
      " 30375\n",
      " 30375\n",
      " 13500\n",
      "  3375\n",
      " 13500\n",
      " 13500\n",
      "  3375\n",
      " 13500\n",
      " 30375\n",
      " 30375\n",
      " 13500\n",
      "  3375\n",
      " 13500\n",
      " 13500\n",
      "  3375\n",
      " 13500\n",
      " 30375\n",
      " 30375\n",
      " 13500\n",
      "  3375\n",
      " 13500\n",
      " 13500\n",
      "  3375\n",
      " 13500\n",
      " 30375\n",
      " 30375\n",
      " 13500\n",
      "  3375\n",
      " 13500\n",
      "[torch.LongTensor of size 72]\n",
      "\n",
      "Variable containing:\n",
      "  3375\n",
      " 13500\n",
      " 30375\n",
      " 30375\n",
      " 13500\n",
      " 30375\n",
      " 30375\n",
      " 13500\n",
      " 30375\n",
      " 30375\n",
      " 13500\n",
      "  3375\n",
      "  3375\n",
      " 13500\n",
      " 30375\n",
      " 30375\n",
      " 13500\n",
      " 30375\n",
      " 30375\n",
      " 13500\n",
      " 30375\n",
      " 30375\n",
      " 13500\n",
      "  3375\n",
      "  3375\n",
      " 13500\n",
      " 30375\n",
      " 30375\n",
      " 13500\n",
      " 30375\n",
      " 30375\n",
      " 13500\n",
      " 30375\n",
      " 30375\n",
      " 13500\n",
      "  3375\n",
      "  3375\n",
      " 13500\n",
      " 30375\n",
      " 30375\n",
      " 13500\n",
      " 30375\n",
      " 30375\n",
      " 13500\n",
      " 30375\n",
      " 30375\n",
      " 13500\n",
      "  3375\n",
      "  3375\n",
      " 13500\n",
      " 30375\n",
      " 30375\n",
      " 13500\n",
      " 30375\n",
      " 30375\n",
      " 13500\n",
      " 30375\n",
      " 30375\n",
      " 13500\n",
      "  3375\n",
      "  3375\n",
      " 13500\n",
      " 30375\n",
      " 30375\n",
      " 13500\n",
      " 30375\n",
      " 30375\n",
      " 13500\n",
      " 30375\n",
      " 30375\n",
      " 13500\n",
      "  3375\n",
      "[torch.LongTensor of size 72]\n",
      "\n"
     ]
    }
   ],
   "source": [
    "print(loss_max)\n",
    "print(loss_min)"
   ]
  },
  {
   "cell_type": "code",
   "execution_count": 113,
   "metadata": {},
   "outputs": [],
   "source": [
    "m = 3"
   ]
  },
  {
   "cell_type": "code",
   "execution_count": 116,
   "metadata": {},
   "outputs": [
    {
     "ename": "RuntimeError",
     "evalue": "inconsistent tensor size, expected r_ [3], t [3] and src [72] to have the same number of elements, but got 3, 3 and 72 elements respectively at /pytorch/torch/lib/TH/generic/THTensorMath.c:887",
     "output_type": "error",
     "traceback": [
      "\u001b[0;31m---------------------------------------------------------------------------\u001b[0m",
      "\u001b[0;31mRuntimeError\u001b[0m                              Traceback (most recent call last)",
      "\u001b[0;32m<ipython-input-116-6736b108a4e1>\u001b[0m in \u001b[0;36m<module>\u001b[0;34m()\u001b[0m\n\u001b[0;32m----> 1\u001b[0;31m \u001b[0mloss\u001b[0m \u001b[0;34m=\u001b[0m \u001b[0mVariable\u001b[0m\u001b[0;34m(\u001b[0m\u001b[0mtorch\u001b[0m\u001b[0;34m.\u001b[0m\u001b[0mLongTensor\u001b[0m\u001b[0;34m(\u001b[0m\u001b[0mm\u001b[0m\u001b[0;34m)\u001b[0m\u001b[0;34m)\u001b[0m \u001b[0;34m+\u001b[0m \u001b[0mloss_max\u001b[0m \u001b[0;34m-\u001b[0m \u001b[0mloss_min\u001b[0m\u001b[0;34m\u001b[0m\u001b[0m\n\u001b[0m",
      "\u001b[0;32m~/.pyenv/versions/3.6.0/envs/env/lib/python3.6/site-packages/torch/autograd/variable.py\u001b[0m in \u001b[0;36m__add__\u001b[0;34m(self, other)\u001b[0m\n\u001b[1;32m    811\u001b[0m \u001b[0;34m\u001b[0m\u001b[0m\n\u001b[1;32m    812\u001b[0m     \u001b[0;32mdef\u001b[0m \u001b[0m__add__\u001b[0m\u001b[0;34m(\u001b[0m\u001b[0mself\u001b[0m\u001b[0;34m,\u001b[0m \u001b[0mother\u001b[0m\u001b[0;34m)\u001b[0m\u001b[0;34m:\u001b[0m\u001b[0;34m\u001b[0m\u001b[0m\n\u001b[0;32m--> 813\u001b[0;31m         \u001b[0;32mreturn\u001b[0m \u001b[0mself\u001b[0m\u001b[0;34m.\u001b[0m\u001b[0madd\u001b[0m\u001b[0;34m(\u001b[0m\u001b[0mother\u001b[0m\u001b[0;34m)\u001b[0m\u001b[0;34m\u001b[0m\u001b[0m\n\u001b[0m\u001b[1;32m    814\u001b[0m     \u001b[0m__radd__\u001b[0m \u001b[0;34m=\u001b[0m \u001b[0m__add__\u001b[0m\u001b[0;34m\u001b[0m\u001b[0m\n\u001b[1;32m    815\u001b[0m \u001b[0;34m\u001b[0m\u001b[0m\n",
      "\u001b[0;32m~/.pyenv/versions/3.6.0/envs/env/lib/python3.6/site-packages/torch/autograd/variable.py\u001b[0m in \u001b[0;36madd\u001b[0;34m(self, other)\u001b[0m\n\u001b[1;32m    317\u001b[0m \u001b[0;34m\u001b[0m\u001b[0m\n\u001b[1;32m    318\u001b[0m     \u001b[0;32mdef\u001b[0m \u001b[0madd\u001b[0m\u001b[0;34m(\u001b[0m\u001b[0mself\u001b[0m\u001b[0;34m,\u001b[0m \u001b[0mother\u001b[0m\u001b[0;34m)\u001b[0m\u001b[0;34m:\u001b[0m\u001b[0;34m\u001b[0m\u001b[0m\n\u001b[0;32m--> 319\u001b[0;31m         \u001b[0;32mreturn\u001b[0m \u001b[0mself\u001b[0m\u001b[0;34m.\u001b[0m\u001b[0m_add\u001b[0m\u001b[0;34m(\u001b[0m\u001b[0mother\u001b[0m\u001b[0;34m,\u001b[0m \u001b[0;32mFalse\u001b[0m\u001b[0;34m)\u001b[0m\u001b[0;34m\u001b[0m\u001b[0m\n\u001b[0m\u001b[1;32m    320\u001b[0m \u001b[0;34m\u001b[0m\u001b[0m\n\u001b[1;32m    321\u001b[0m     \u001b[0;32mdef\u001b[0m \u001b[0madd_\u001b[0m\u001b[0;34m(\u001b[0m\u001b[0mself\u001b[0m\u001b[0;34m,\u001b[0m \u001b[0mother\u001b[0m\u001b[0;34m)\u001b[0m\u001b[0;34m:\u001b[0m\u001b[0;34m\u001b[0m\u001b[0m\n",
      "\u001b[0;32m~/.pyenv/versions/3.6.0/envs/env/lib/python3.6/site-packages/torch/autograd/variable.py\u001b[0m in \u001b[0;36m_add\u001b[0;34m(self, other, inplace)\u001b[0m\n\u001b[1;32m    311\u001b[0m     \u001b[0;32mdef\u001b[0m \u001b[0m_add\u001b[0m\u001b[0;34m(\u001b[0m\u001b[0mself\u001b[0m\u001b[0;34m,\u001b[0m \u001b[0mother\u001b[0m\u001b[0;34m,\u001b[0m \u001b[0minplace\u001b[0m\u001b[0;34m)\u001b[0m\u001b[0;34m:\u001b[0m\u001b[0;34m\u001b[0m\u001b[0m\n\u001b[1;32m    312\u001b[0m         \u001b[0;32mif\u001b[0m \u001b[0misinstance\u001b[0m\u001b[0;34m(\u001b[0m\u001b[0mother\u001b[0m\u001b[0;34m,\u001b[0m \u001b[0mVariable\u001b[0m\u001b[0;34m)\u001b[0m\u001b[0;34m:\u001b[0m\u001b[0;34m\u001b[0m\u001b[0m\n\u001b[0;32m--> 313\u001b[0;31m             \u001b[0;32mreturn\u001b[0m \u001b[0mAdd\u001b[0m\u001b[0;34m.\u001b[0m\u001b[0mapply\u001b[0m\u001b[0;34m(\u001b[0m\u001b[0mself\u001b[0m\u001b[0;34m,\u001b[0m \u001b[0mother\u001b[0m\u001b[0;34m,\u001b[0m \u001b[0minplace\u001b[0m\u001b[0;34m)\u001b[0m\u001b[0;34m\u001b[0m\u001b[0m\n\u001b[0m\u001b[1;32m    314\u001b[0m         \u001b[0;32melse\u001b[0m\u001b[0;34m:\u001b[0m\u001b[0;34m\u001b[0m\u001b[0m\n\u001b[1;32m    315\u001b[0m             \u001b[0;32massert\u001b[0m \u001b[0;32mnot\u001b[0m \u001b[0mtorch\u001b[0m\u001b[0;34m.\u001b[0m\u001b[0mis_tensor\u001b[0m\u001b[0;34m(\u001b[0m\u001b[0mother\u001b[0m\u001b[0;34m)\u001b[0m\u001b[0;34m\u001b[0m\u001b[0m\n",
      "\u001b[0;32m~/.pyenv/versions/3.6.0/envs/env/lib/python3.6/site-packages/torch/autograd/_functions/basic_ops.py\u001b[0m in \u001b[0;36mforward\u001b[0;34m(ctx, a, b, inplace)\u001b[0m\n\u001b[1;32m     15\u001b[0m             \u001b[0;32mreturn\u001b[0m \u001b[0ma\u001b[0m\u001b[0;34m.\u001b[0m\u001b[0madd_\u001b[0m\u001b[0;34m(\u001b[0m\u001b[0mb\u001b[0m\u001b[0;34m)\u001b[0m\u001b[0;34m\u001b[0m\u001b[0m\n\u001b[1;32m     16\u001b[0m         \u001b[0;32melse\u001b[0m\u001b[0;34m:\u001b[0m\u001b[0;34m\u001b[0m\u001b[0m\n\u001b[0;32m---> 17\u001b[0;31m             \u001b[0;32mreturn\u001b[0m \u001b[0ma\u001b[0m\u001b[0;34m.\u001b[0m\u001b[0madd\u001b[0m\u001b[0;34m(\u001b[0m\u001b[0mb\u001b[0m\u001b[0;34m)\u001b[0m\u001b[0;34m\u001b[0m\u001b[0m\n\u001b[0m\u001b[1;32m     18\u001b[0m \u001b[0;34m\u001b[0m\u001b[0m\n\u001b[1;32m     19\u001b[0m     \u001b[0;34m@\u001b[0m\u001b[0mstaticmethod\u001b[0m\u001b[0;34m\u001b[0m\u001b[0m\n",
      "\u001b[0;31mRuntimeError\u001b[0m: inconsistent tensor size, expected r_ [3], t [3] and src [72] to have the same number of elements, but got 3, 3 and 72 elements respectively at /pytorch/torch/lib/TH/generic/THTensorMath.c:887"
     ]
    }
   ],
   "source": [
    "loss = Variable(torch.LongTensor(m)) + loss_max - loss_min"
   ]
  },
  {
   "cell_type": "code",
   "execution_count": null,
   "metadata": {},
   "outputs": [],
   "source": []
  }
 ],
 "metadata": {
  "kernelspec": {
   "display_name": "Python 3",
   "language": "python",
   "name": "python3"
  },
  "language_info": {
   "codemirror_mode": {
    "name": "ipython",
    "version": 3
   },
   "file_extension": ".py",
   "mimetype": "text/x-python",
   "name": "python",
   "nbconvert_exporter": "python",
   "pygments_lexer": "ipython3",
   "version": "3.6.0"
  }
 },
 "nbformat": 4,
 "nbformat_minor": 2
}
